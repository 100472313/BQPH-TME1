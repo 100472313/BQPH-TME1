{
 "cells": [
  {
   "cell_type": "markdown",
   "metadata": {
    "collapsed": false
   },
   "source": [
    "# Quantum Computing with ndarray\n",
    "\n",
    "This notebook contains exercises that will guide you into implementing basic quantum computing concepts, and essential linear algebra operations. We have defined for you a simple `ndlist` class in `ndlists.py` that you will extend with methods to manipulate quantum states and operators. The goal is to get familiar with the mathematical framework of quantum computing without using specialized libraries like numpy.\n",
    "\n",
    "This first notebook focuses on the representation of quantum states (kets and bras), measurement probabilities, unitary operators, and inner products. By the end of this first notebook, you should have defined the scalar product and understood the concept of base, superposition, and measurement in quantum mechanics.\n",
    "\n",
    "### At the end of each session you should have added all your functions from this notebook to a separated file called \"TME1_name1_name2.py\" where name1 and name 2 are the names of your pair. If you fail to properly rename that file, and add the correct name you will be penalized."
   ]
  },
  {
   "cell_type": "code",
   "execution_count": 1,
   "metadata": {
    "collapsed": false
   },
   "outputs": [],
   "source": [
    "from ndlists import ndlist\n",
    "from typing import List\n",
    "\n",
    "from math import cos, sin, sqrt, pi"
   ]
  },
  {
   "cell_type": "markdown",
   "metadata": {
    "collapsed": false
   },
   "source": [
    "## Exercise 0 — Floating Point Precision\n",
    "\n",
    "The floating point representation of numbers in computers is not exact. This can lead to unexpected results when comparing floating point numbers directly. For example:"
   ]
  },
  {
   "cell_type": "code",
   "execution_count": 2,
   "metadata": {
    "collapsed": false
   },
   "outputs": [
    {
     "name": "stdout",
     "output_type": "stream",
     "text": [
      "False\n",
      "1.1102230246251565e-15\n",
      "0.0\n"
     ]
    }
   ],
   "source": [
    "a = 0.1 + 0.2\n",
    "b = 0.3\n",
    "print(a == b)  # This will print False\n",
    "\n",
    "epsilon = 1e-15 # try 1e-15\n",
    "print(1 + epsilon -1)\n",
    "\n",
    "epsilon = 1e-16\n",
    "print(1 + epsilon -1)"
   ]
  },
  {
   "cell_type": "markdown",
   "metadata": {
    "collapsed": false
   },
   "source": [
    "To avoid such issues, we can define a method to compare floating point numbers with a tolerance level."
   ]
  },
  {
   "cell_type": "code",
   "execution_count": 3,
   "metadata": {
    "collapsed": false
   },
   "outputs": [],
   "source": [
    "def _isclose(a: float, b: float, tol: float = 1e-9) -> bool:\n",
    "    \"\"\"\n",
    "    Check if two floating point numbers are close to each other within a tolerance.\n",
    "    :param a: first floating point number\n",
    "    :param b: second floating point number\n",
    "    :param tol: tolerance level\n",
    "    :return: True if numbers are close, False otherwise\n",
    "    \"\"\"\n",
    "    return abs(a - b) < tol"
   ]
  },
  {
   "cell_type": "code",
   "execution_count": 4,
   "metadata": {
    "collapsed": false
   },
   "outputs": [
    {
     "name": "stdout",
     "output_type": "stream",
     "text": [
      "True\n"
     ]
    }
   ],
   "source": [
    "# Test the _isclose method\n",
    "print(_isclose(a, b))  # This should print True"
   ]
  },
  {
   "cell_type": "markdown",
   "metadata": {
    "collapsed": false
   },
   "source": [
    "## Exercise 1 — Ket\n",
    "A **ket** represents a column vector describing the state of a quantum system.\n",
    "For example, the computational basis states are\n",
    "\n",
    "$$\n",
    "|0⟩ = \\begin{bmatrix} 1 \\\\ 0 \\end{bmatrix}, \\quad |1⟩ = \\begin{bmatrix} 0 \\\\ 1 \\end{bmatrix}\n",
    "$$\n",
    "\n",
    "Within the programming framework, we will represent a ket as a ndarray object of shape $(n, 1)$, where $n > 1$, to avoid ambiguity. Is a (1,1) array a ket or a bra, or a vector at all?\n",
    "\n",
    "**Tasks:**\n",
    "1. Implement a method `_ket(lst: list)` that constructs a ket from a list.\n",
    "2. Test your method with |0⟩ and |1⟩."
   ]
  },
  {
   "cell_type": "code",
   "execution_count": 7,
   "metadata": {
    "collapsed": false
   },
   "outputs": [],
   "source": [
    "def _ket(lst: list) -> 'ndlist':\n",
    "    \"\"\"\n",
    "    Create a ket from a list.\n",
    "    :param lst: list of elements\n",
    "    :return: ndlist representing the ket\n",
    "    \"\"\"\n",
    "    return ndlist(lst)\n"
   ]
  },
  {
   "cell_type": "code",
   "execution_count": 22,
   "metadata": {
    "collapsed": false
   },
   "outputs": [
    {
     "name": "stdout",
     "output_type": "stream",
     "text": [
      "|0⟩: [1, 0] (2,)\n",
      "|1⟩: [0, 1] (2,)\n",
      "|j⟩: [(1+1j), 1] (2,)\n"
     ]
    }
   ],
   "source": [
    "# Test your method\n",
    "zero = _ket([1, 0])\n",
    "one = _ket([0, 1])\n",
    "complex_one = _ket([1+1j,1])\n",
    "plus = _ket([1/sqrt(2), 1/sqrt(2)])\n",
    "\n",
    "print(\"|0⟩:\", zero, zero.shape)\n",
    "print(\"|1⟩:\", one, one.shape)\n",
    "print(\"|j⟩:\", complex_one, complex_one.shape)"
   ]
  },
  {
   "cell_type": "markdown",
   "metadata": {
    "collapsed": false
   },
   "source": [
    "Let us now define two important operations when manipulating quantum states, namely the norm and the normalization of a state. The norm of a vector $v$ is defined as $\\|v\\| = \\sqrt{\\sum_i |v_i|^2}$.\n",
    "\n",
    "**Tasks:**\n",
    "\n",
    "1. Implement a method `_norm(array: ndlist)` that computes the norm of a ndlist object.\n",
    "2. Write a function that multiply a ndlist object by a scalar called `_scalar_mult(scalar: float, array: ndlist)`.\n",
    "3. Implement a method that normalizes a ndlist object."
   ]
  },
  {
   "cell_type": "code",
   "execution_count": null,
   "metadata": {
    "collapsed": false
   },
   "outputs": [],
   "source": [
    "def _norm(array: ndlist) -> float:\n",
    "    \"\"\"\n",
    "    Compute the norm of a ndlist object.\n",
    "    :param array: ndlist object\n",
    "    :return: norm (float)\n",
    "    \"\"\"\n",
    "    norm_squared = 0\n",
    "    for i in array:\n",
    "        #Sum the squared module of the components\n",
    "        norm_squared += sqrt((i.real)**2 + (i.imag)**2)**2\n",
    "    #Square root of the sum\n",
    "    norm = sqrt(norm_squared)\n",
    "    return norm\n",
    "\n"
   ]
  },
  {
   "cell_type": "code",
   "execution_count": 28,
   "metadata": {},
   "outputs": [
    {
     "name": "stdout",
     "output_type": "stream",
     "text": [
      "1.7320508075688774\n"
     ]
    }
   ],
   "source": [
    "print(_norm(complex_one))"
   ]
  },
  {
   "cell_type": "code",
   "execution_count": null,
   "metadata": {
    "collapsed": false
   },
   "outputs": [],
   "source": [
    "def _scalar_mult(scalar: complex, array: ndlist) -> 'ndlist':\n",
    "    \"\"\"\n",
    "    Multiply a ndlist object by a scalar.\n",
    "    :param scalar: scalar\n",
    "    :param array: ndlist\n",
    "    :return: ndlist object after multiplication\n",
    "    \"\"\""
   ]
  },
  {
   "cell_type": "code",
   "execution_count": null,
   "metadata": {
    "collapsed": false
   },
   "outputs": [],
   "source": [
    "def _normalize(array: ndlist) -> 'ndlist':\n",
    "    \"\"\"\n",
    "    Normalize a ndlist object.\n",
    "    :param array: ndlist object\n",
    "    :return: normalized ndlist object\n",
    "    \"\"\""
   ]
  },
  {
   "cell_type": "code",
   "execution_count": null,
   "metadata": {
    "collapsed": false
   },
   "outputs": [],
   "source": [
    "# Test your methods\n",
    "print(\"Norm of |0⟩:\", _norm(zero))  # Should be 1\n",
    "print(\"Norm of |1⟩:\", _norm(one))   # Should be 1\n",
    "\n",
    "superposition = _ket([1, 1])\n",
    "print(\"Norm of superposition |+⟩:\", _norm(superposition))  # Should be sqrt(2)\n",
    "\n",
    "normalized_superposition = _normalize(superposition)\n",
    "print(\"Normalized superposition |+⟩:\", normalized_superposition, _norm(normalized_superposition))  # Should be 1"
   ]
  },
  {
   "cell_type": "markdown",
   "metadata": {
    "collapsed": false
   },
   "source": [
    "## Exercise 2 - Matrix representation\n",
    "\n",
    "A matrix can represent a quantum operator. For example, the Pauli matrix $\\sigma_x$ is represented by the matrix\n",
    "\n",
    "$$\n",
    "\\sigma_x = \\begin{bmatrix} 0 & 1 \\\\ 1 & 0 \\end{bmatrix}\n",
    "$$\n",
    "\n",
    "A matrix is a 2D ndarray object, with shape $(n, m)$, with $n, m > 1$, to avoid ambiguity of vector with shape (1, n) or (n, 1), and (1, 1). A matrix is defined in a basis, meaning it can be decomposed as:\n",
    "\n",
    "$$\n",
    "A = \\sum_{i,j} A_{ij} |i⟩⟨j|\n",
    "$$\n",
    "\n",
    "**Tasks:**\n",
    "1. Implement a function `_zeros(n: int, m: int)` that creates a zero matrix of shape (n, m).\n",
    "2. Implement a function `_identity(n: int)` that creates an identity matrix of shape (n, n).\n",
    "3. Implement a method `_matrix(lst: list)` that constructs a matrix from a list of kets.\n",
    "4. Define the following operations:\n",
    "    - Matrix multiplication `_matmul`\n",
    "    - Determinant `_det`\n",
    "    - Transpose `_transpose` and Hermitian conjugate `_hermitian`"
   ]
  },
  {
   "cell_type": "code",
   "execution_count": null,
   "metadata": {
    "collapsed": false
   },
   "outputs": [],
   "source": [
    "def _zeros(n: int, m: int) -> 'ndlist':\n",
    "    \"\"\"\n",
    "    Create a zero matrix of shape (n, m).\n",
    "    :param n: number of rows\n",
    "    :param m: number of columns\n",
    "    :return: ndlist representing the zero matrix\n",
    "    \"\"\""
   ]
  },
  {
   "cell_type": "code",
   "execution_count": null,
   "metadata": {
    "collapsed": false
   },
   "outputs": [],
   "source": [
    "def _identity(n: int) -> 'ndlist':\n",
    "    \"\"\"\n",
    "    Create an identity matrix of shape (n, n).\n",
    "    :param n: size of the identity matrix\n",
    "    :return: ndlist representing the identity matrix\n",
    "    \"\"\""
   ]
  },
  {
   "cell_type": "code",
   "execution_count": null,
   "metadata": {
    "collapsed": false
   },
   "outputs": [],
   "source": [
    "# Create a zero matrix\n",
    "zero_matrix = _zeros(2, 2)\n",
    "print(\"Zero matrix:\\n\", zero_matrix, zero_matrix.shape)\n",
    "\n",
    "# Create an identity matrix\n",
    "identity_matrix = _identity(2)\n",
    "print(\"Identity matrix:\\n\", identity_matrix, identity_matrix.shape)"
   ]
  },
  {
   "cell_type": "code",
   "execution_count": null,
   "metadata": {
    "collapsed": false
   },
   "outputs": [],
   "source": [
    "def _matrix(lvec: List[ndlist]) -> 'ndlist':\n",
    "    \"\"\"\n",
    "    Create a matrix from a list of lists using the zero matrix function.\n",
    "    :param lvec: list of lists representing the matrix\n",
    "    :return: ndlist representing the matrix\n",
    "    \"\"\""
   ]
  },
  {
   "cell_type": "code",
   "execution_count": null,
   "metadata": {
    "collapsed": false
   },
   "outputs": [],
   "source": [
    "# Create a matrix from a list of ndlist\n",
    "matrix_A = _matrix([_ket([1, 0]), _ket([0, 1])])\n",
    "print(\"Matrix A:\\n\", matrix_A, matrix_A.shape)"
   ]
  },
  {
   "cell_type": "code",
   "execution_count": null,
   "metadata": {
    "collapsed": false
   },
   "outputs": [],
   "source": [
    "def _matmul(A: ndlist, B: ndlist) -> 'ndlist':\n",
    "    \"\"\"\n",
    "    Perform matrix multiplication A @ B.\n",
    "    :param A: ndlist representing matrix A\n",
    "    :param B: ndlist representing matrix B\n",
    "    :return: ndlist representing the result of A @ B\n",
    "    \"\"\""
   ]
  },
  {
   "cell_type": "code",
   "execution_count": null,
   "metadata": {
    "collapsed": false
   },
   "outputs": [],
   "source": [
    "# Matrix multiplication\n",
    "A = ndlist([[1, 2], [3, 4]])\n",
    "B = ndlist([[5, 6], [7, 8]])\n",
    "\n",
    "C = _matmul(A, B)\n",
    "print(\"Matrix multiplication A @ B:\\n\", C)\n",
    "A_identity = _matmul(A, _identity(2))\n",
    "print(\"A @ I:\\n\", A_identity)"
   ]
  },
  {
   "cell_type": "code",
   "execution_count": null,
   "metadata": {
    "collapsed": false
   },
   "outputs": [],
   "source": [
    "def _det(matrix: ndlist) -> float:\n",
    "    \"\"\"\n",
    "    Compute the determinant of a square matrix.\n",
    "    :param matrix: ndlist representing a square matrix\n",
    "    :return: determinant (float)\n",
    "    \"\"\""
   ]
  },
  {
   "cell_type": "code",
   "execution_count": null,
   "metadata": {
    "collapsed": false
   },
   "outputs": [],
   "source": [
    "# Determinant\n",
    "det_A = _det(A)\n",
    "det_identity = _det(identity_matrix) # Should be 1\n",
    "\n",
    "print(\"Determinant of A:\", det_A)\n",
    "print(\"Determinant of Identity matrix:\", det_identity)"
   ]
  },
  {
   "cell_type": "code",
   "execution_count": null,
   "metadata": {
    "collapsed": false
   },
   "outputs": [],
   "source": [
    "def _transpose(matrix: ndlist) -> 'ndlist':\n",
    "    \"\"\"\n",
    "    Compute the transpose of a matrix.\n",
    "    :param matrix: ndlist representing a matrix\n",
    "    :return: ndlist representing the transposed matrix\n",
    "    \"\"\""
   ]
  },
  {
   "cell_type": "code",
   "execution_count": null,
   "metadata": {
    "collapsed": false
   },
   "outputs": [],
   "source": [
    "def _hermitian(matrix: ndlist) -> 'ndlist':\n",
    "    \"\"\"\n",
    "    Compute the Hermitian conjugate (conjugate transpose) of a matrix.\n",
    "    :param matrix: ndlist representing a matrix\n",
    "    :return: ndlist representing the Hermitian conjugate\n",
    "    \"\"\""
   ]
  },
  {
   "cell_type": "code",
   "execution_count": null,
   "metadata": {
    "collapsed": false
   },
   "outputs": [],
   "source": [
    "# Transpose\n",
    "transpose_A = _transpose(A)\n",
    "transpose_B = _transpose(B)\n",
    "\n",
    "print(\"Transpose of A:\\n\", transpose_A)\n",
    "print(\"Transpose of B:\\n\", transpose_B)\n",
    "\n",
    "# Hermitian (for real matrices, it's the same as transpose)\n",
    "complex_matrix = ndlist([[1+1j, 2], [3, 4-1j]])\n",
    "hermitian_complex = _hermitian(complex_matrix)\n",
    "print(\"Hermitian of complex matrix:\\n\", hermitian_complex)"
   ]
  },
  {
   "cell_type": "markdown",
   "metadata": {
    "collapsed": false
   },
   "source": [
    "## Exercise 3 — Unitary Operators\n",
    "A matrix \\(U\\) is **unitary** if\n",
    "\n",
    "$$\n",
    "U^\\dagger U = I\n",
    "$$\n",
    "\n",
    "where $U^\\dagger$ is the conjugate transpose of $U$ and $I$ is the identity matrix.\n",
    "\n",
    "**Tasks:**\n",
    "1. Implement a method `is_unitary()` that checks whether a given operator is unitary.\n",
    "2. Implement an `apply_unitary(U)` method that applies a unitary matrix $U$ to a ket.\n",
    "3. Show with an example:\n",
    "   - Start with a ket (e.g., |0⟩).\n",
    "   - Apply a quantum gate (e.g., Pauli-X).\n",
    "   - Measure probabilities.\n",
    "4. Prove/verify: applying $U$ then measuring is equivalent to measuring in the rotated basis.\n"
   ]
  },
  {
   "cell_type": "code",
   "execution_count": null,
   "metadata": {
    "collapsed": false
   },
   "outputs": [],
   "source": [
    "def is_unitary(matrix: ndlist, tol: float = 1e-9) -> bool:\n",
    "    \"\"\"\n",
    "    Check if a matrix is unitary.\n",
    "    :param matrix: ndlist object representing a matrix\n",
    "    :param tol: tolerance level for floating point comparison\n",
    "    :return: True if unitary, False otherwise\n",
    "    \"\"\""
   ]
  },
  {
   "cell_type": "code",
   "execution_count": null,
   "metadata": {
    "collapsed": false
   },
   "outputs": [],
   "source": [
    "# Define Pauli-X gate\n",
    "pauli_x = ndlist([[0, 1], [1, 0]])\n",
    "print(\"Is Pauli-X unitary?\", is_unitary(pauli_x))  # Should be True\n",
    "\n",
    "# Hadamard gate\n",
    "hadamard = _scalar_mult(1/sqrt(2), ndlist([[1, 1], [1, -1]]))\n",
    "print(\"Is Hadamard unitary?\", is_unitary(hadamard))  # Should be True\n",
    "\n",
    "# Some matrix\n",
    "some_matrix = ndlist([[1, 2], [3, 4]])\n",
    "print(\"Is some_matrix unitary?\", is_unitary(some_matrix))  # Should be False"
   ]
  },
  {
   "cell_type": "code",
   "execution_count": null,
   "metadata": {
    "collapsed": false
   },
   "outputs": [],
   "source": [
    "def apply_unitary(ket: ndlist, U: ndlist) -> 'ndlist':\n",
    "    \"\"\"\n",
    "    Apply a unitary matrix U to a ket.\n",
    "    :param ket: ndlist representing the ket\n",
    "    :param U: ndlist representing the unitary matrix\n",
    "    :return: ndlist representing the new ket\n",
    "    \"\"\""
   ]
  },
  {
   "cell_type": "code",
   "execution_count": null,
   "metadata": {
    "collapsed": false
   },
   "outputs": [],
   "source": [
    "# Apply Pauli-X to |0⟩\n",
    "new_state = apply_unitary(zero, pauli_x)\n",
    "print(\"New state after applying Pauli-X to |0⟩:\\n\", new_state)\n",
    "\n",
    "# Hadamard gate\n",
    "new_state_h = apply_unitary(zero, hadamard)\n",
    "print(\"New state after applying Hadamard to |0⟩:\\n\", new_state_h)"
   ]
  },
  {
   "cell_type": "markdown",
   "metadata": {
    "collapsed": false
   },
   "source": [
    "## Exercise 4 — Bra\n",
    "A **bra** is the Hermitian conjugate (transpose + complex conjugate) of a ket:\n",
    "\n",
    "$$\n",
    "⟨ψ| = (|ψ⟩)^\\dagger\n",
    "$$\n",
    "\n",
    "**Tasks:**\n",
    "1. Implement a method `bra(ket: ndlist)` returning the bra associated to a ket.\n",
    "2. Verify for |0⟩ and |1⟩."
   ]
  },
  {
   "cell_type": "code",
   "execution_count": null,
   "metadata": {
    "collapsed": false
   },
   "outputs": [],
   "source": [
    "def bra(ket: ndlist) -> 'ndlist':\n",
    "    \"\"\"\n",
    "    Compute the bra associated to a ket.\n",
    "    :param ket: ndlist representing the ket\n",
    "    :return: ndlist representing the bra\n",
    "    \"\"\""
   ]
  },
  {
   "cell_type": "code",
   "execution_count": null,
   "metadata": {
    "collapsed": false
   },
   "outputs": [],
   "source": [
    "# Test bra method\n",
    "bra_zero = bra(zero)\n",
    "bra_one = bra(one)\n",
    "\n",
    "print(\"Bra of |0⟩:\", bra_zero, bra_zero.shape)\n",
    "print(\"Bra of |1⟩:\", bra_one, bra_one.shape)"
   ]
  },
  {
   "cell_type": "markdown",
   "metadata": {
    "collapsed": false
   },
   "source": [
    "## Exercise 5 — Scalar Product\n",
    "The scalar product between two states is\n",
    "\n",
    "$$\n",
    "⟨φ|ψ⟩ = \\sum_i φ_i^* ψ_i\n",
    "$$\n",
    "\n",
    "**Tasks:**\n",
    "1. Implement a method `_inner(ket1: ndlist, ket2: ndlist)` that computes the inner product between two kets.\n",
    "2. Test your method with the provided examples.\n",
    "3. Verify orthogonality and normalization of the states |0⟩, |1⟩, |+⟩, and |−⟩.\n"
   ]
  },
  {
   "cell_type": "code",
   "execution_count": null,
   "metadata": {
    "collapsed": false
   },
   "outputs": [],
   "source": [
    "def _inner(ket1: ndlist, ket2: ndlist) -> complex:\n",
    "    \"\"\"\n",
    "    Compute the inner product between two kets.\n",
    "    :param ket1: ndlist representing the first ket\n",
    "    :param ket2: ndlist representing the second ket\n",
    "    :return: inner product (complex)\n",
    "    \"\"\""
   ]
  },
  {
   "cell_type": "code",
   "execution_count": null,
   "metadata": {
    "collapsed": false
   },
   "outputs": [],
   "source": [
    "# Test inner product method\n",
    "plus = _normalize(_ket([1, 1]))  # |+⟩\n",
    "minus = _normalize(_ket([1, -1]))  # |−⟩\n",
    "\n",
    "print(\"Inner product ⟨0|1⟩:\", _inner(zero, one))  # Should be 0\n",
    "print(\"Inner product ⟨1|0⟩:\", _inner(one, zero))  # Should be 0\n",
    "print(\"Inner product ⟨+|+⟩:\", _inner(plus, plus))  # Should be 1\n",
    "print(\"Inner product ⟨−|−⟩:\", _inner(minus, minus))  # Should be 1"
   ]
  },
  {
   "cell_type": "markdown",
   "metadata": {
    "collapsed": false
   },
   "source": [
    "# Exercise 6 : Measurement in an arbitrary basis\n",
    "\n",
    "The goal is of this final exercise is to apply all the concepts we have seen so far to implement measurement in an arbitrary basis.\n",
    "First you will define a matrix that is the decomposition in the basis of choice. Using the scalar product, you will compute the probability of measuring each state in that basis.\n",
    "\n",
    "The probability of measuring outcome *i* is\n",
    "\n",
    "$$\n",
    "P_i = |a_i|^2\n",
    "$$\n",
    "\n",
    "for a state\n",
    "\n",
    "$$\n",
    "|ψ⟩ = \\sum_i a_i |i⟩\n",
    "$$\n",
    "\n",
    "We will also see a key concept in quantum mechanics: global phase invariance.\n",
    "A quantum state |ψ⟩ and the state exp(iφ)|ψ⟩ (where φ is a real number) represent the same physical state, as they yield identical measurement probabilities.\n",
    "\n",
    "\n",
    "\n",
    "**Tasks:**\n",
    "1. Implement a method `measure_in_basis(ket: ndlist, basis: List[ndlist])` that computes the probabilities of measuring the ket in the given basis.\n",
    "2. Test your method with the provided examples."
   ]
  },
  {
   "cell_type": "code",
   "execution_count": null,
   "metadata": {
    "collapsed": false
   },
   "outputs": [],
   "source": [
    "def measure_in_basis(ket: ndlist, basis: ndlist) -> List[float]:\n",
    "    \"\"\"\n",
    "    Compute the probabilities of measuring the ket in the given basis.\n",
    "    :param ket: ndlist representing the ket\n",
    "    :param basis: ndlist representing the basis as a matrix\n",
    "    :return: list of probabilities\n",
    "    \"\"\""
   ]
  },
  {
   "cell_type": "code",
   "execution_count": null,
   "metadata": {
    "collapsed": false
   },
   "outputs": [],
   "source": [
    "# Define an arbitrary basis\n",
    "theta = pi/4\n",
    "basis = _matrix([_ket([cos(theta), sin(theta)]), _ket([sin(theta), cos(theta)])])\n",
    "print(basis, basis.shape)"
   ]
  },
  {
   "cell_type": "code",
   "execution_count": null,
   "metadata": {
    "collapsed": false
   },
   "outputs": [],
   "source": [
    "# Test measure_in_basis method with previously defined states\n",
    "probabilities_zero = measure_in_basis(zero, basis)\n",
    "probabilities_one = measure_in_basis(one, basis)\n",
    "probabilities_plus = measure_in_basis(plus, basis)\n",
    "probabilities_minus = measure_in_basis(minus, basis)\n",
    "\n",
    "print(\"Probabilities of measuring |0⟩ in the basis:\", probabilities_zero)\n",
    "print(\"Probabilities of measuring |1⟩ in the basis:\", probabilities_one)\n",
    "print(\"Probabilities of measuring |+⟩ in the basis:\", probabilities_plus)\n",
    "print(\"Probabilities of measuring |−⟩ in the basis:\", probabilities_minus)"
   ]
  },
  {
   "cell_type": "code",
   "execution_count": null,
   "metadata": {
    "collapsed": false
   },
   "outputs": [],
   "source": [
    "# Test global phase invariance\n",
    "phi = pi / 3  # Example phase\n",
    "global_phase_state = _scalar_mult(cos(phi) + 1j * sin(phi), plus)\n",
    "probabilities_global_phase = measure_in_basis(global_phase_state, basis)\n",
    "print(\"Probabilities of measuring exp(iφ)|+⟩ in the basis:\", probabilities_global_phase)"
   ]
  },
  {
   "cell_type": "markdown",
   "metadata": {
    "collapsed": false
   },
   "source": [
    "Define the following matrices and check their properties, especially in terms of phase invariance when applied to a ket:\n",
    "\n",
    "1. Pauli-Z\n",
    "2. Identity\n",
    "3. Negative Identity"
   ]
  },
  {
   "cell_type": "code",
   "execution_count": null,
   "metadata": {
    "collapsed": false
   },
   "outputs": [],
   "source": [
    "# Difference between pauli-z, identity and -identity in terms of phase invariance\n",
    "pauli_z = ...\n",
    "identity = ...\n",
    "neg_identity = ..."
   ]
  },
  {
   "cell_type": "code",
   "execution_count": null,
   "metadata": {
    "collapsed": false
   },
   "outputs": [],
   "source": [
    "psi = _scalar_mult(1/sqrt(2), _ket([1, 1]))  # |+⟩ state\n",
    "print(\"State |ψ⟩:\", psi)\n",
    "\n",
    "# Apply Pauli-Z\n",
    "psi_pauli_z = apply_unitary(psi, pauli_z)\n",
    "print(\"After applying Pauli-Z:\", psi_pauli_z)\n",
    "print(\"Probabilities after Pauli-Z:\", measure_in_basis(psi_pauli_z, basis))\n",
    "# Apply Identity\n",
    "psi_identity = apply_unitary(psi, identity)\n",
    "print(\"After applying Identity:\", psi_identity)\n",
    "print(\"Probabilities after Identity:\", measure_in_basis(psi_identity, basis))\n",
    "# Apply Negative Identity\n",
    "psi_neg_identity = apply_unitary(psi, neg_identity)\n",
    "print(\"After applying Negative Identity:\", psi_neg_identity)\n",
    "print(\"Probabilities after Negative Identity:\", measure_in_basis(psi_neg_identity, basis))"
   ]
  }
 ],
 "metadata": {
  "kernelspec": {
   "display_name": "Python 3",
   "language": "python",
   "name": "python3"
  },
  "language_info": {
   "codemirror_mode": {
    "name": "ipython",
    "version": 3
   },
   "file_extension": ".py",
   "mimetype": "text/x-python",
   "name": "python",
   "nbconvert_exporter": "python",
   "pygments_lexer": "ipython3",
   "version": "3.12.11"
  }
 },
 "nbformat": 4,
 "nbformat_minor": 0
}
