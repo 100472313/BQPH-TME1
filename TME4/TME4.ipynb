{
 "cells": [
  {
   "cell_type": "markdown",
   "metadata": {
    "collapsed": false,
    "jupyter": {
     "outputs_hidden": false
    }
   },
   "source": [
    "# TME: Introduction to Numpy (and Matplotlib) for Quantum Information\n",
    "\n",
    "This notebook is a guided exploration of Numpy for quantum physicists and computer scientists.\n",
    "It introduces key linear algebraic operations you’ll use throughout the rest of the course,\n",
    "including in the Bloch sphere and quantum gates sessions.\n",
    "\n",
    "In the previous TMEs, you implemented linear algebra operations manually using lists of lists (ndlist), in order to understand the mathematical structure behind vectors, matrices, and tensor products.\n",
    "\n",
    "Starting now, we will use NumPy, a powerful numerical library optimized for matrix operations, complex numbers, and scientific computing.\n",
    "\n",
    "By the end of this session, you should be able to:\n",
    "\n",
    "- Represent kets, bras, and operators with NumPy arrays\n",
    "- Perform matrix and vector operations (@, .T, .conj().T, etc.)\n",
    "- Compute tensor products with np.kron\n",
    "- Understand and use matrix exponential for quantum evolution\n",
    "- Distinguish between element-wise and matrix operations\n",
    "\n",
    "We will also introduce Matplotlib for basic plotting, which will be useful for visualizing quantum states and operations in later TMEs."
   ]
  },
  {
   "cell_type": "markdown",
   "metadata": {
    "collapsed": false,
    "jupyter": {
     "outputs_hidden": false
    }
   },
   "source": [
    "## 1. Getting Started with NumPy\n",
    "\n",
    "First, ensure you have NumPy installed. If you're using a Jupyter notebook, you can install it via pip:\n",
    "> ```!pip install numpy```"
   ]
  },
  {
   "cell_type": "code",
   "execution_count": null,
   "metadata": {
    "collapsed": false,
    "jupyter": {
     "outputs_hidden": false
    }
   },
   "outputs": [],
   "source": [
    "import numpy as np\n",
    "\n",
    "from typing import List"
   ]
  },
  {
   "cell_type": "markdown",
   "metadata": {
    "collapsed": false,
    "jupyter": {
     "outputs_hidden": false
    }
   },
   "source": [
    "NumPy provides a powerful N-dimensional array object called `ndarray`. You can create arrays from Python lists or tuples using the `np.array()` function."
   ]
  },
  {
   "cell_type": "code",
   "execution_count": null,
   "metadata": {
    "collapsed": false,
    "jupyter": {
     "outputs_hidden": false
    }
   },
   "outputs": [],
   "source": [
    "# A simple ket |0⟩ and |1⟩\n",
    "ket0 = np.array([[1], [0]], dtype=complex)\n",
    "ket1 = np.array([[0], [1]], dtype=complex)\n",
    "\n",
    "# Display them\n",
    "print(\"ket0 =\\n\", ket0)\n",
    "print(\"ket1 =\\n\", ket1)\n",
    "\n",
    "# A matrix, e.g. Pauli-X\n",
    "X = np.array([[0, 1],\n",
    "              [1, 0]], dtype=complex)\n",
    "print(\"X =\\n\", X)"
   ]
  },
  {
   "cell_type": "markdown",
   "metadata": {
    "collapsed": false,
    "jupyter": {
     "outputs_hidden": false
    }
   },
   "source": [
    "Pay attention to the syntax: double brackets `[[...]]` are used to create column vectors (kets) and matrices, while single brackets `[...]` create 1D arrays.\n",
    "Using `dtype=complex` ensures that the arrays can handle complex numbers, which are essential in quantum mechanics.\n",
    "The different dtypes available in NumPy are documented [here](https://numpy.org/doc/stable/user/basics.types.html).\n",
    "\n",
    "You can access the shape of an array using the `.shape` attribute, and you can perform various operations like transposition and conjugation using methods like `.T` and `.conj()`."
   ]
  },
  {
   "cell_type": "markdown",
   "metadata": {
    "collapsed": false,
    "jupyter": {
     "outputs_hidden": false
    }
   },
   "source": [
    "Numpy also provide two useful functions to create arrays of zeros and ones, `np.zeros()` and `np.ones()`."
   ]
  },
  {
   "cell_type": "code",
   "execution_count": null,
   "metadata": {
    "collapsed": false,
    "jupyter": {
     "outputs_hidden": false
    }
   },
   "outputs": [],
   "source": [
    "# Create a 3x3 matrix of zeros\n",
    "zeros_matrix = np.zeros((3, 3), dtype=complex)\n",
    "print(\"3x3 Zeros Matrix:\\n\", zeros_matrix)\n",
    "# Create a 2x2 matrix of ones\n",
    "ones_matrix = np.ones((2, 2), dtype=complex)\n",
    "print(\"2x2 Ones Matrix:\\n\", ones_matrix)"
   ]
  },
  {
   "cell_type": "markdown",
   "metadata": {
    "collapsed": false,
    "jupyter": {
     "outputs_hidden": false
    }
   },
   "source": [
    "When manipulating NumPy arrays, it’s crucial to understand how memory is shared between variables.\n",
    "\n",
    "Unlike Python lists, NumPy arrays often return views instead of copies.\n",
    "That means modifying one array can unexpectedly modify another."
   ]
  },
  {
   "cell_type": "code",
   "execution_count": null,
   "metadata": {
    "collapsed": false,
    "jupyter": {
     "outputs_hidden": false
    }
   },
   "outputs": [],
   "source": [
    "A = np.array([10, 20, 30, 40])\n",
    "B = A[1:3]  # Slice → this is a *view*, not a copy\n",
    "\n",
    "print(\"Before modification:\")\n",
    "print(\"A =\", A)\n",
    "print(\"B =\", B)\n",
    "\n",
    "B[0] = 999  # Modifying B also changes A!\n",
    "\n",
    "print(\"\\nAfter modification:\")\n",
    "print(\"A =\", A)\n",
    "print(\"B =\", B)"
   ]
  },
  {
   "cell_type": "markdown",
   "metadata": {
    "collapsed": false,
    "jupyter": {
     "outputs_hidden": false
    }
   },
   "source": [
    "To avoid this, you can create a copy of an array using the `.copy()` method."
   ]
  },
  {
   "cell_type": "code",
   "execution_count": null,
   "metadata": {
    "collapsed": false,
    "jupyter": {
     "outputs_hidden": false
    }
   },
   "outputs": [],
   "source": [
    "A = np.array([10, 20, 30, 40])\n",
    "B = A[1:3].copy()  # Create a copy\n",
    "B[0] = 999  # Modifying B does NOT change A\n",
    "print(\"A =\", A)\n",
    "print(\"B =\", B)"
   ]
  },
  {
   "cell_type": "markdown",
   "metadata": {
    "collapsed": false,
    "jupyter": {
     "outputs_hidden": false
    }
   },
   "source": [
    "## 2. Basic Operations\n",
    "\n",
    "You can perform various operations on NumPy arrays, such as addition, multiplication, and transposition.\n",
    "In NumPy, there are two main ways to multiply arrays: element-wise multiplication using `*`, and matrix multiplication using the `@` operator or the `np.dot()` function."
   ]
  },
  {
   "cell_type": "code",
   "execution_count": null,
   "metadata": {
    "collapsed": false,
    "jupyter": {
     "outputs_hidden": false
    }
   },
   "outputs": [],
   "source": [
    "# Addition\n",
    "ket_plus = ket0 + ket1\n",
    "print(\"ket_plus =\\n\", ket_plus)\n",
    "\n",
    "# Element-wise multiplication\n",
    "elementwise_product = ket0 * ket1\n",
    "print(\"Element-wise product =\\n\", elementwise_product)\n",
    "\n",
    "# Matrix multiplication\n",
    "matrix_product = X @ ket0\n",
    "print(\"Matrix product X|0⟩ =\\n\", matrix_product)\n",
    "# Alternatively, using np.dot\n",
    "matrix_product_dot = np.dot(X, ket0)\n",
    "print(\"Matrix product using np.dot X|0⟩ =\\n\", matrix_product_dot)"
   ]
  },
  {
   "cell_type": "markdown",
   "metadata": {
    "collapsed": false,
    "jupyter": {
     "outputs_hidden": false
    }
   },
   "source": [
    "---\n",
    "**Exercise 1:**\n",
    "\n",
    "Implement the quantum gates H (Hadamard), X (Pauli-X), Y (Pauli-Y), and Z (Pauli-Z) as NumPy arrays. Verify their action on the basis states |0⟩ and |1⟩.\n",
    "\n",
    "Write a function `apply_gate(gates: List[ndarray], state: ndarray) -> ndarray` that takes a list of gates and a state, and applies the gates in sequence to the state. Use this function to apply a sequence of gates to an initial state |0⟩, |1⟩ or a superposition, for instance:\n",
    "- Two gates Y and X in series\n",
    "- A sequence of H, X, and Z gates"
   ]
  },
  {
   "cell_type": "code",
   "execution_count": null,
   "metadata": {
    "collapsed": false,
    "jupyter": {
     "outputs_hidden": false
    }
   },
   "outputs": [],
   "source": [
    "# Define the gates\n",
    "H = ...\n",
    "X = ...\n",
    "Y = ...\n",
    "Z = ...\n",
    "\n",
    "# Define the initial states\n",
    "ket0 = ...\n",
    "ket1 = ...\n",
    "ket_plus = ..."
   ]
  },
  {
   "cell_type": "code",
   "execution_count": null,
   "metadata": {
    "collapsed": false,
    "jupyter": {
     "outputs_hidden": false
    }
   },
   "outputs": [],
   "source": [
    "def apply_gate(gates: List[np.ndarray], state: np.ndarray) -> np.ndarray:\n",
    "    \"\"\"\n",
    "    Apply a sequence of quantum gates to a given state.\n",
    "    :param gates: List of gates to apply\n",
    "    :param state: Quantum state\n",
    "    :return:\n",
    "    \"\"\"\n",
    "    pass"
   ]
  },
  {
   "cell_type": "code",
   "execution_count": null,
   "metadata": {
    "collapsed": false,
    "jupyter": {
     "outputs_hidden": false
    }
   },
   "outputs": [],
   "source": [
    "# Verify the action of the gates\n",
    "sequence1 = [Y, X]\n",
    "result1 = apply_gate(sequence1, ket0)\n",
    "print(\"Result of applying Y and X to |0⟩:\\n\", result1)\n",
    "\n",
    "sequence2 = [H, X, Z]\n",
    "result2 = apply_gate(sequence2, ket_plus)\n",
    "print(\"Result of applying H, X, and Z to |+⟩:\\n\", result2)\n",
    "\n",
    "# Experiment with other sequences and initial states, what happens if you apply X, Y instead of Y, X? Is the order of the gates important?"
   ]
  },
  {
   "cell_type": "markdown",
   "metadata": {
    "collapsed": false,
    "jupyter": {
     "outputs_hidden": false
    }
   },
   "source": [
    "---\n",
    "Quantum mechanics uses **Hermitian conjugates** (dagger), corresponding to A.conj().T in NumPy.\n",
    "The function `conj()` computes the complex conjugate of each element in the array, and `T` transposes the array.\n",
    "As you can see, in this example we call the **attributes** in sequence. We can also call them in the reverse order, as `A.T.conj()`, which gives the same result here. We can also use `np.conj(A.T)` or `np.transpose(A).conj()` or `np.transpose(np.conj(A))`.\n"
   ]
  },
  {
   "cell_type": "code",
   "execution_count": null,
   "metadata": {
    "collapsed": false,
    "jupyter": {
     "outputs_hidden": false
    }
   },
   "outputs": [],
   "source": [
    "# Hermitian conjugate of a matrix\n",
    "A = np.array([[1, 2j], [3j, 4]], dtype=complex)\n",
    "A_dagger = A.conj().T\n",
    "print(\"A =\\n\", A)\n",
    "print(\"A† =\\n\", A_dagger)"
   ]
  },
  {
   "cell_type": "markdown",
   "metadata": {
    "collapsed": false,
    "jupyter": {
     "outputs_hidden": false
    }
   },
   "source": [
    "---\n",
    "**Exercise 2:**\n",
    "\n",
    "Implement a function `is_hermitian(matrix: np.ndarray) -> bool` that checks if a given matrix is Hermitian (i.e., equal to its own Hermitian conjugate). Test this function with various matrices, including the Pauli matrices and some non-Hermitian matrices."
   ]
  },
  {
   "cell_type": "code",
   "execution_count": null,
   "metadata": {
    "collapsed": false,
    "jupyter": {
     "outputs_hidden": false
    }
   },
   "outputs": [],
   "source": [
    "def is_hermitian(matrix: np.ndarray) -> bool:\n",
    "    \"\"\"\n",
    "    Check if a matrix is Hermitian.\n",
    "    :param matrix: Input matrix\n",
    "    :return: True if Hermitian, False otherwise\n",
    "    \"\"\"\n",
    "    pass"
   ]
  },
  {
   "cell_type": "code",
   "execution_count": null,
   "metadata": {
    "collapsed": false,
    "jupyter": {
     "outputs_hidden": false
    }
   },
   "outputs": [],
   "source": [
    "# Test the function with the Pauli matrices and other matrices you defined earlier\n",
    "print(\"Is X Hermitian?\", is_hermitian(X))\n",
    "print(\"Is Y Hermitian?\", is_hermitian(Y))\n",
    "print(\"Is Z Hermitian?\", is_hermitian(Z))\n",
    "print(\"Is A Hermitian?\", is_hermitian(A))"
   ]
  },
  {
   "cell_type": "markdown",
   "metadata": {
    "collapsed": false,
    "jupyter": {
     "outputs_hidden": false
    }
   },
   "source": [
    "---\n",
    "## 3. Tensor Products\n",
    "We saw in previous TMEs that the tensor product (Kronecker product) is essential for describing multi-qubit systems.\n",
    "In NumPy, you can compute the tensor product using the `np.kron()` function."
   ]
  },
  {
   "cell_type": "code",
   "execution_count": null,
   "metadata": {
    "collapsed": false,
    "jupyter": {
     "outputs_hidden": false
    }
   },
   "outputs": [],
   "source": [
    "# Tensor product of |0⟩ and |1⟩\n",
    "ket01 = np.kron(ket0, ket1)\n",
    "print(\"|0⟩ ⊗ |1⟩ =\\n\", ket01)"
   ]
  },
  {
   "cell_type": "markdown",
   "metadata": {
    "collapsed": false,
    "jupyter": {
     "outputs_hidden": false
    }
   },
   "source": [
    "---\n",
    "**Exercise 3:**\n",
    "\n",
    "Define the Bell state |Φ+⟩ = (|00⟩ + |11⟩)/√2 using tensor products and verify its normalization using the `np.linalg.norm()` function.\n",
    "Compute the tensor product of two Hadamard gates and apply it to the state |00⟩. What state do you obtain?"
   ]
  },
  {
   "cell_type": "code",
   "execution_count": null,
   "metadata": {
    "collapsed": false,
    "jupyter": {
     "outputs_hidden": false
    }
   },
   "outputs": [],
   "source": [
    "# Define the Bell state |Φ+⟩\n",
    "bell_phi_plus = ...\n",
    "print(\"Bell state |Φ+⟩ =\\n\", bell_phi_plus)\n",
    "\n",
    "# Verify normalization\n",
    "norm = np.linalg.norm(bell_phi_plus)\n",
    "print(\"Norm of |Φ+⟩:\", norm)"
   ]
  },
  {
   "cell_type": "code",
   "execution_count": null,
   "metadata": {
    "collapsed": false,
    "jupyter": {
     "outputs_hidden": false
    }
   },
   "outputs": [],
   "source": [
    "# Tensor product of two Hadamard gates\n",
    "H2 = ...\n",
    "print(\"H ⊗ H =\\n\", H2)\n",
    "\n",
    "# Apply H ⊗ H to |00⟩\n",
    "initial_state = ...\n",
    "result_state = ...\n",
    "print(\"Result of applying H ⊗ H to |00⟩:\\n\", result_state)"
   ]
  },
  {
   "cell_type": "markdown",
   "metadata": {
    "collapsed": false,
    "jupyter": {
     "outputs_hidden": false
    }
   },
   "source": [
    "---\n",
    "## 4. Matrix Exponentiation and Operations\n",
    "\n",
    "In quantum mechanics, the time evolution of a quantum state is often described by the matrix exponential of a Hamiltonian operator. This is defined as:\n",
    "\n",
    "$$ U(t) = e^{-iHt/\\hbar} $$\n",
    "\n",
    "You have two ways to compute exponential in NumPy: `np.exp()` for element-wise exponentiation and `scipy.linalg.expm()` for matrix exponentiation.\n",
    "\n",
    "Mathematically, the matrix exponential is defined by the Taylor series expansion:\n",
    "\n",
    "$$ e^A = I + A + \\frac{A^2}{2!} + \\frac{A^3}{3!} + \\ldots = \\sum_{n=0}^{\\infty} \\frac{A^n}{n!} $$\n",
    "\n",
    "where \\( I \\) is the identity matrix."
   ]
  },
  {
   "cell_type": "code",
   "execution_count": null,
   "metadata": {
    "collapsed": false,
    "jupyter": {
     "outputs_hidden": false
    }
   },
   "outputs": [],
   "source": [
    "from scipy.linalg import expm"
   ]
  },
  {
   "cell_type": "code",
   "execution_count": null,
   "metadata": {
    "collapsed": false,
    "jupyter": {
     "outputs_hidden": false
    }
   },
   "outputs": [],
   "source": [
    "# Example of element-wise exponentiation\n",
    "A = np.array([[0, 1], [1, 0]], dtype=complex)\n",
    "elementwise_exp = np.exp(A)\n",
    "print(\"Element-wise exp(A) =\\n\", elementwise_exp)\n",
    "\n",
    "# Example of matrix exponentiation\n",
    "matrix_exp = expm(A)\n",
    "print(\"Matrix exp(A) =\\n\", matrix_exp)"
   ]
  },
  {
   "cell_type": "markdown",
   "metadata": {
    "collapsed": false,
    "jupyter": {
     "outputs_hidden": false
    }
   },
   "source": [
    "---\n",
    "**Exercise 4:**\n",
    "\n",
    "Implement a function `matrix_exponential(matrix: np.ndarray, n: int) -> np.ndarray`, that computes the matrix exponential using the Taylor series expansion up to n terms.\n",
    "\n",
    "Compare your result with `scipy.linalg.expm()` for a given matrix with $n = \\{10, 100, 1000, 10000\\}$. Using matplotlib, plot the error (e.g., Frobenius norm of the difference `numpy.linalg.norm`) between your implementation and `scipy.linalg.expm()` as a function of n. What can you conclude?"
   ]
  },
  {
   "cell_type": "code",
   "execution_count": null,
   "metadata": {
    "collapsed": false,
    "jupyter": {
     "outputs_hidden": false
    }
   },
   "outputs": [],
   "source": [
    "def matrix_exponential(matrix: np.ndarray, n: int) -> np.ndarray:\n",
    "    \"\"\"\n",
    "    Compute the matrix exponential using the Taylor series expansion up to n terms.\n",
    "    :param matrix: Input matrix\n",
    "    :param n: Number of terms in the series\n",
    "    :return: Approximation of the matrix exponential\n",
    "    \"\"\"\n",
    "    pass\n"
   ]
  },
  {
   "cell_type": "code",
   "execution_count": null,
   "metadata": {
    "collapsed": false,
    "jupyter": {
     "outputs_hidden": false
    }
   },
   "outputs": [],
   "source": [
    "# Test the function with a sample matrix\n",
    "A = np.array([[2, 1 - 1j], [3j, 0]], dtype=complex)\n",
    "print(A.dtype)\n",
    "exact_exp = expm(A)\n",
    "print(\"Exact exp(A) =\\n\", exact_exp)"
   ]
  },
  {
   "cell_type": "code",
   "execution_count": null,
   "metadata": {
    "collapsed": false,
    "jupyter": {
     "outputs_hidden": false
    }
   },
   "outputs": [],
   "source": [
    "import matplotlib.pyplot as plt"
   ]
  },
  {
   "cell_type": "code",
   "execution_count": null,
   "metadata": {
    "collapsed": false,
    "jupyter": {
     "outputs_hidden": false
    }
   },
   "outputs": [],
   "source": [
    "# Compute and compare for different n values\n",
    "n_values = [1, 5, 10, 20, 100]\n",
    "\n",
    "# Implement the error computation\n",
    "..."
   ]
  },
  {
   "cell_type": "markdown",
   "metadata": {
    "collapsed": false,
    "jupyter": {
     "outputs_hidden": false
    }
   },
   "source": [
    "We can now plot the error using Matplotlib. Make sure you have Matplotlib installed. If you're using a Jupyter notebook, you can install it via pip:\n",
    "> ```!pip install matplotlib```\n",
    "\n",
    "To get familiar with the different parameters, you can check the [Matplotlib quickstart guide](https://matplotlib.org/stable/users/explain/quick_start.html). We will try to provide the code with comments indicating where you can customize the plot, but feel free to explore the documentation for more options. For now you will not be evaluated on your plotting skills, but it is important to get familiar with this library as you will use it in future TMEs."
   ]
  },
  {
   "cell_type": "code",
   "execution_count": null,
   "metadata": {
    "collapsed": false,
    "jupyter": {
     "outputs_hidden": false
    }
   },
   "outputs": [],
   "source": [
    "# Plot the error\n",
    "plt.figure()  # Create a new figure, optional parameters can be passed to customize the figure (e.g., figsize=(8, 6), dpi=100, etc.)\n",
    "plt.plot(n_values, errors, marker='o')  # plot with markers for better visibility, optional parameters can be passed to customize the plot (e.g., color='blue', linestyle='--', etc.)\n",
    "plt.xscale('log')  # Set x-axis to logarithmic scale\n",
    "plt.yscale('log')  # Set y-axis to logarithmic scale\n",
    "plt.xlabel('Number of terms n')  # Optional parameters can be passed to customize the label (e.g., fontsize=14, color='red', etc.)\n",
    "plt.ylabel('Frobenius norm of error')  # Optional parameters can be passed to customize the label (e.g., fontsize=14, color='red', etc.)\n",
    "plt.title('Error in Matrix Exponential Approximation')  # Optional parameters can be passed to customize the title (e.g., fontsize=16, color='green', etc.)\n",
    "plt.grid(True)  # Optional parameters can be passed to customize the grid (e.g., linestyle='--', color='gray', etc.)\n",
    "# If there is a legend, it can be added with plt.legend(), optional parameters can be passed to customize the legend (e.g., fontsize=12, loc='upper right', etc.)\n",
    "plt.show()"
   ]
  },
  {
   "cell_type": "markdown",
   "metadata": {
    "collapsed": false,
    "jupyter": {
     "outputs_hidden": false
    }
   },
   "source": [
    "It is also useful to know other important matrix operations, such as the trace, determinant, the inverse, and how to find eigenvalues and eigenvectors.\n",
    "\n",
    "The trace of a matrix is the sum of its diagonal elements, and can be computed using `np.trace()`."
   ]
  },
  {
   "cell_type": "code",
   "execution_count": null,
   "metadata": {
    "collapsed": false,
    "jupyter": {
     "outputs_hidden": false
    }
   },
   "outputs": [],
   "source": [
    "# Trace of a matrix\n",
    "trace_A = np.trace(A)\n",
    "print(\"Trace of A =\", trace_A)"
   ]
  },
  {
   "cell_type": "markdown",
   "metadata": {
    "collapsed": false,
    "jupyter": {
     "outputs_hidden": false
    }
   },
   "source": [
    "The determinant of a matrix can be computed using `np.linalg.det()`."
   ]
  },
  {
   "cell_type": "code",
   "execution_count": null,
   "metadata": {
    "collapsed": false,
    "jupyter": {
     "outputs_hidden": false
    }
   },
   "outputs": [],
   "source": [
    "# Determinant of a matrix\n",
    "det_A = np.linalg.det(A)\n",
    "print(\"Determinant of A =\", det_A)"
   ]
  },
  {
   "cell_type": "markdown",
   "metadata": {
    "collapsed": false,
    "jupyter": {
     "outputs_hidden": false
    }
   },
   "source": [
    "The inverse of a matrix can be computed using `np.linalg.inv()`, provided the matrix is invertible.\n",
    "Mathematically, a matrix $A$ is invertible if there exists a matrix $B$ such that $AB = BA = I$, where $I$ is the identity matrix."
   ]
  },
  {
   "cell_type": "code",
   "execution_count": null,
   "metadata": {
    "collapsed": false,
    "jupyter": {
     "outputs_hidden": false
    }
   },
   "outputs": [],
   "source": [
    "# Inverse of a matrix\n",
    "inv_A = np.linalg.inv(A)\n",
    "print(\"Inverse of A =\\n\", inv_A)\n",
    "# Verify that A * A_inv = I\n",
    "identity_check = A @ inv_A\n",
    "print(\"A * A_inv =\\n\", identity_check)"
   ]
  },
  {
   "cell_type": "markdown",
   "metadata": {
    "collapsed": false,
    "jupyter": {
     "outputs_hidden": false
    }
   },
   "source": [
    "Eigenvalues and eigenvectors can be computed using `np.linalg.eig()`.\n",
    "As a reminder, for a square matrix $A$, an eigenvector $v$ and its corresponding eigenvalue $\\lambda$ satisfy the equation $Av = \\lambda v$."
   ]
  },
  {
   "cell_type": "code",
   "execution_count": 34,
   "metadata": {
    "ExecuteTime": {
     "end_time": "2025-10-15T11:46:01.338469Z",
     "start_time": "2025-10-15T11:46:01.322280200Z"
    },
    "collapsed": false,
    "jupyter": {
     "outputs_hidden": false
    }
   },
   "outputs": [
    {
     "name": "stdout",
     "output_type": "stream",
     "text": [
      "Eigenvalues of A = [ 3.12132034+0.70710678j -1.12132034-0.70710678j]\n",
      "Eigenvectors of A =\n",
      " [[ 0.7295812 +0.j         -0.21559176+0.34188249j]\n",
      " [ 0.15110121+0.66699303j  0.91467839+0.j        ]]\n"
     ]
    }
   ],
   "source": [
    "# Eigenvalues and eigenvectors\n",
    "eigenvalues, eigenvectors = np.linalg.eig(A)\n",
    "print(\"Eigenvalues of A =\", eigenvalues)\n",
    "print(\"Eigenvectors of A =\\n\", eigenvectors)"
   ]
  },
  {
   "cell_type": "markdown",
   "metadata": {
    "collapsed": false,
    "jupyter": {
     "outputs_hidden": false
    }
   },
   "source": [
    "## Exercise 5: Simulating a Simple Quantum Circuit with NumPy\n",
    "\n",
    "#### Objective\n",
    "Implement a simple quantum circuit using NumPy to:\n",
    "1. Create a 2-qubit state \\(|00\\rangle\\).\n",
    "2. Apply a Hadamard gate to the first qubit and a CNOT gate with the first qubit as control.\n",
    "3. Compute the final state vector.\n",
    "4. (Optional) Visualize the state on the Bloch sphere."
   ]
  },
  {
   "cell_type": "code",
   "execution_count": null,
   "metadata": {
    "collapsed": false,
    "jupyter": {
     "outputs_hidden": false
    }
   },
   "outputs": [],
   "source": []
  }
 ],
 "metadata": {
  "kernelspec": {
   "display_name": "Python 3 (ipykernel)",
   "language": "python",
   "name": "python3"
  },
  "language_info": {
   "codemirror_mode": {
    "name": "ipython",
    "version": 3
   },
   "file_extension": ".py",
   "mimetype": "text/x-python",
   "name": "python",
   "nbconvert_exporter": "python",
   "pygments_lexer": "ipython3",
   "version": "3.12.11"
  }
 },
 "nbformat": 4,
 "nbformat_minor": 4
}
