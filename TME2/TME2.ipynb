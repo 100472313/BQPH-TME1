{
 "cells": [
  {
   "cell_type": "code",
   "execution_count": null,
   "metadata": {},
   "outputs": [],
   "source": [
    "student_name = [\"pablo_gonzalez_lazaro\", \"alberto_lopez_del_amo\"]"
   ]
  },
  {
   "cell_type": "markdown",
   "metadata": {
    "collapsed": false
   },
   "source": [
    "# TME2 – Tensor Products, Unitaries, and Measurements\n",
    "\n",
    "In this session, you will practice the basics of quantum formalism with the help of the `ndlist` class.\n",
    "We will represent qubits as vectors, multi-qubit systems with tensor products, apply unitary operations (quantum gates), and model projective measurements.\n",
    "\n",
    "You will need some functions you defined in TME1, so make sure you have that code available. You can also refer to the solutions provided.\n",
    "\n",
    "⚠️ Important: Use only the `ndlist` class we provide. **Do not use NumPy.**"
   ]
  },
  {
   "cell_type": "code",
   "execution_count": 11,
   "metadata": {
    "collapsed": false
   },
   "outputs": [],
   "source": [
    "import ndlists as nd\n",
    "\n",
    "# import TME1_functions as tme1  # Uncomment and change the module name if you have TME1 functions from your previous work or solutions. YOU NEED TO UNCOMMENT THIS LINE TO USE TME1 FUNCTIONS\n",
    "import TME1_functions_solution as tme1  # Using the provided solutions for TME1 functions\n",
    "\n",
    "from math import sqrt, pi, cos, sin, tan, exp\n",
    "from typing import List"
   ]
  },
  {
   "cell_type": "markdown",
   "metadata": {
    "collapsed": false
   },
   "source": [
    "# Prerequisites\n",
    "\n",
    "Currently, the `ndlist` class does **not** behave like NumPy arrays when adding two objects:\n",
    "\n",
    "```python\n",
    "import ndlists as nd\n",
    "\n",
    "a = nd.ndlist([1, 2, 3])\n",
    "b = nd.ndlist([1, 0, 3])\n",
    "\n",
    "print(a + b)   # gives [1, 2, 3, 1, 0, 3]  (concatenation, not addition!)\n",
    "print(2 * a)   # gives [1, 2, 3, 1, 2, 3]  (concatenation, not multiplication!)\n",
    "```\n",
    "\n",
    "During the previous TME, you implemented a function for the multiplication of an `ndlist` object and a scalar.\n",
    "From now on, you will be able to operate with `ndlist` objects as you would with NumPy arrays when it comes to addition and scalar multiplication.\n",
    "\n",
    "To enable this behavior, we have modified the `ndlist` class to include the (`__add__`;`__radd__`) methods for addition, `__rmul__` methods for scalar multiplication, (`__sub__`;`__rsub__`) for scalar subtraction, and the division methods `__rtruediv__`. Only multiplication between two `ndlist` objects is not defined (it is your responsibility to use the correct function from TME1 for multiplication).\n",
    "You can find the updated `ndlist` class in the `ndlists.py` file (make sure to use this updated version). Be aware that the multiplication of two `ndlist` objects will give an element wise multiplication:\n",
    "\n",
    "```python\n",
    "import ndlists as nd\n",
    "a = nd.ndlist([1, 2, 3])\n",
    "b = nd.ndlist([1, 0, 3])\n",
    "print(a + b)   # gives [2, 2, 6]  (element wise addition)\n",
    "print(2 * a)   # gives [2, 4, 6]  (scalar multiplication)\n",
    "```\n",
    "\n",
    "Thus, when performing matrix multiplication, make sure to use the correct function from TME1! You have been warned 0_0 !"
   ]
  },
  {
   "cell_type": "markdown",
   "metadata": {
    "collapsed": false
   },
   "source": [
    "## 1. States of Multipartite Systems\n",
    "\n",
    "A single qubit is described by a vector in $\\mathbb{C}^2$.\n",
    "For example, the basis states are:\n",
    "\n",
    "$$|0\\rangle = \\begin{bmatrix}1 \\\\ 0\\end{bmatrix} \\quad , \\quad |1\\rangle = \\begin{bmatrix}0 \\\\ 1\\end{bmatrix}$$\n",
    "\n",
    "For multiple qubits, we use **tensor products**.\n",
    "For instance:\n",
    "\n",
    "$$|0\\rangle \\otimes |1\\rangle = |01\\rangle = \\begin{bmatrix}0 \\\\ 1 \\\\ 0 \\\\ 0\\end{bmatrix}$$"
   ]
  },
  {
   "cell_type": "markdown",
   "metadata": {
    "collapsed": false
   },
   "source": [
    "### Exercise 1: Tensor Products\n",
    "\n",
    "Implement the function `tensor_product` that computes the tensor product of two vectors represented as `ndlist` objects."
   ]
  },
  {
   "cell_type": "code",
   "execution_count": null,
   "metadata": {
    "collapsed": false
   },
   "outputs": [],
   "source": [
    "def tensor_product(A: nd.ndlist, B: nd.ndlist) -> nd.ndlist:\n",
    "    \"\"\"\n",
    "    Compute the tensor product of two ndlists recursively.\n",
    "    :param A:\n",
    "    :param B:\n",
    "    :return: The tensor product A ⊗ B as a ndlist.\n",
    "    \"\"\"\n",
    "    tensor_product = tme1._zeros(A.shape[0] * B.shape[0], A.shape[1] * B.shape[1])\n",
    "    for j in range(A.shape[0]):\n",
    "        for k in range(B.shape[0]):\n",
    "                for l in range(A.shape[1]):\n",
    "                     for m in range(B.shape[1]):\n",
    "                        tensor_product[j*B.shape[0]+k][l*B.shape[1]+m] = A[j][l] * B[k][m] \n",
    "    return tensor_product"
   ]
  },
  {
   "cell_type": "code",
   "execution_count": 58,
   "metadata": {
    "collapsed": false
   },
   "outputs": [
    {
     "name": "stdout",
     "output_type": "stream",
     "text": [
      "Tensor product |0> ⊗ |1>:\n",
      " [[0], [1], [0], [0]] (4, 1)\n"
     ]
    }
   ],
   "source": [
    "# Test the tensor_product function\n",
    "v0 = tme1._ket([1, 0])  # |0>\n",
    "v1 = tme1._ket([0, 1])  # |1>\n",
    "\n",
    "tp = tensor_product(v0, v1)  # |0> ⊗ |1>\n",
    "print(\"Tensor product |0> ⊗ |1>:\\n\", tp, tp.shape)"
   ]
  },
  {
   "cell_type": "code",
   "execution_count": 59,
   "metadata": {
    "collapsed": false
   },
   "outputs": [
    {
     "name": "stdout",
     "output_type": "stream",
     "text": [
      "Bell state |Φ+>:\n",
      " [[0.7071067811865475], [0.0], [0.0], [0.7071067811865475]] (4, 1)\n",
      "Bell state |Φ->:\n",
      " [[0.7071067811865475], [0.0], [0.0], [-0.7071067811865475]] (4, 1)\n",
      "Bell state |Ψ+>:\n",
      " [[0.0], [0.7071067811865475], [0.7071067811865475], [0.0]] (4, 1)\n",
      "Bell state |Ψ->:\n",
      " [[0.0], [0.7071067811865475], [-0.7071067811865475], [0.0]] (4, 1)\n"
     ]
    }
   ],
   "source": [
    "# Bell states\n",
    "bell_00 = (1 / sqrt(2)) * (tensor_product(v0, v0) + tensor_product(v1, v1))\n",
    "bell_01 = (1 / sqrt(2)) * (tensor_product(v0, v1) + tensor_product(v1, v0))\n",
    "bell_10 = (1 / sqrt(2)) * (tensor_product(v0, v0) - tensor_product(v1, v1))\n",
    "bell_11 = (1 / sqrt(2)) * (tensor_product(v0, v1) - tensor_product(v1, v0))\n",
    "\n",
    "print(\"Bell state |Φ+>:\\n\", bell_00, bell_00.shape)\n",
    "print(\"Bell state |Φ->:\\n\", bell_10, bell_10.shape)\n",
    "print(\"Bell state |Ψ+>:\\n\", bell_01, bell_01.shape)\n",
    "print(\"Bell state |Ψ->:\\n\", bell_11, bell_11.shape)"
   ]
  },
  {
   "cell_type": "code",
   "execution_count": 60,
   "metadata": {
    "collapsed": false
   },
   "outputs": [],
   "source": [
    "# Verify that the tensor product also holds for quantum gates operators.\n",
    "I = nd.ndlist([[1, 0],\n",
    "            [0, 1]])\n",
    "X = nd.ndlist([[0, 1],\n",
    "            [1, 0]])\n",
    "Y = nd.ndlist([[0, -1j],\n",
    "            [1j, 0]])\n",
    "Z = nd.ndlist([[1, 0],\n",
    "            [0, -1]])"
   ]
  },
  {
   "cell_type": "code",
   "execution_count": 61,
   "metadata": {
    "collapsed": false
   },
   "outputs": [
    {
     "name": "stdout",
     "output_type": "stream",
     "text": [
      "X ⊗ I:\n",
      " [[0, 0, 1, 0], [0, 0, 0, 1], [1, 0, 0, 0], [0, 1, 0, 0]]\n",
      "Z ⊗ Y:\n",
      " [[0, -1j, 0, -0j], [1j, 0, 0j, 0], [0, -0j, 0, 1j], [0j, 0, (-0-1j), 0]]\n"
     ]
    }
   ],
   "source": [
    "# Example: X ⊗ I\n",
    "X_I = tensor_product(X, I)\n",
    "print(\"X ⊗ I:\\n\", X_I)\n",
    "\n",
    "# Example: Z ⊗ Y\n",
    "Z_Y = tensor_product(Z, Y)\n",
    "print(\"Z ⊗ Y:\\n\", Z_Y)"
   ]
  },
  {
   "cell_type": "markdown",
   "metadata": {
    "collapsed": false
   },
   "source": [
    "Let's define the CNOT gate using tensor products. The CNOT gate is defined as:\n",
    "\n",
    "$$\\text{CNOT} = \\begin{bmatrix}1 & 0 & 0 & 0 \\\\ 0 & 1 & 0 & 0 \\\\ 0 & 0 & 0 & 1 \\\\ 0 & 0 & 1 & 0\\end{bmatrix}$$\n",
    "\n",
    "Express CNOT in terms of tensor products and implement it using the `tensor_product` function."
   ]
  },
  {
   "cell_type": "code",
   "execution_count": 62,
   "metadata": {
    "collapsed": false
   },
   "outputs": [
    {
     "name": "stdout",
     "output_type": "stream",
     "text": [
      "[[1, 0], [0, 0]]\n",
      "[[0, 0], [0, 1]]\n",
      "CNOT gate:\n",
      " [[1, 0, 0, 0], [0, 1, 0, 0], [0, 0, 0, 1], [0, 0, 1, 0]] (4, 4)\n"
     ]
    }
   ],
   "source": [
    "# CNOT gate using tensor products\n",
    "m0 = tme1._matrix([v0, tme1._zeros(2, 1)])  # |0><0|\n",
    "m1 = tme1._matrix([tme1._zeros(2, 1), v1])  # |1><1|\n",
    "\n",
    "print(m0)\n",
    "print(m1)\n",
    "\n",
    "CNOT = tensor_product(m0, I) + tensor_product(m1, X)\n",
    "print(\"CNOT gate:\\n\", CNOT, CNOT.shape)"
   ]
  },
  {
   "cell_type": "markdown",
   "metadata": {
    "collapsed": false
   },
   "source": [
    "Compute the action of the CNOT gate on the state $|+\\rangle \\otimes |0\\rangle$, where $|+\\rangle = \\frac{1}{\\sqrt{2}}(|0\\rangle + |1\\rangle)$."
   ]
  },
  {
   "cell_type": "code",
   "execution_count": 63,
   "metadata": {
    "collapsed": false
   },
   "outputs": [
    {
     "name": "stdout",
     "output_type": "stream",
     "text": [
      "[[0.7071067811865475], [0.7071067811865475]] (2, 1)\n",
      "Initial state |+> ⊗ |0>:\n",
      " [[0.7071067811865475], [0.0], [0.7071067811865475], [0.0]] (4, 1)\n",
      "Final state after CNOT:\n",
      " [[0.7071067811865475], [0.0], [0.0], [0.7071067811865475]] (4, 1)\n"
     ]
    }
   ],
   "source": [
    "# Define |+> state\n",
    "v_plus = 1/sqrt(2) * (v0 + v1) # |+> = (|0> + |1>) / sqrt(2)\n",
    "print(v_plus, v_plus.shape)\n",
    "# Initial state |+> ⊗ |0>\n",
    "initial_state = tensor_product(v_plus, v0)\n",
    "print(\"Initial state |+> ⊗ |0>:\\n\", initial_state, initial_state.shape)\n",
    "\n",
    "# Apply CNOT gate\n",
    "final_state = tme1._matmul(CNOT, initial_state)\n",
    "print(\"Final state after CNOT:\\n\", final_state, final_state.shape)"
   ]
  },
  {
   "cell_type": "markdown",
   "metadata": {
    "collapsed": false
   },
   "source": [
    "## 2. Projective Measurements\n",
    "\n",
    "A projective measurement is described by a set of projection operators $\\{\\Pi_i\\}_i$ that satisfy the completeness relation:\n",
    "\n",
    "- $\\sum_i \\Pi_i = I$\n",
    "- $\\forall i, \\Pi_i^2 = \\Pi_i$ ($\\Pi_i$ is a projector)\n",
    "\n",
    "When measuring a state $|\\psi\\rangle$, the probability of obtaining the outcome associated with $\\Pi_i$ is given by:\n",
    "\n",
    "$$ p(i) = \\| \\Pi_i |\\psi\\rangle \\|^2 = | \\langle \\psi | \\Pi_i | \\psi \\rangle | $$\n",
    "\n",
    "After the measurement, the state collapses to:\n",
    "\n",
    "$$ |\\psi_i\\rangle = \\frac{\\Pi_i |\\psi\\rangle}{\\| \\Pi_i |\\psi \\rangle \\|} $$\n",
    "\n",
    "On paper, computing probabilities in multi-qubit systems can quickly become very tedious.\n",
    "\n",
    "With code, however, we can explore interesting cases like **measuring Bell states in different bases**."
   ]
  },
  {
   "cell_type": "markdown",
   "metadata": {
    "collapsed": false
   },
   "source": [
    "### Exercise 2.1 – Computational basis projectors\n",
    "\n",
    "1. Define the projectors $P_0 = |0\\rangle\\langle 0|$ and $P_1 = |1\\rangle\\langle 1|$.\n",
    "2. Build two-qubit projectors $P_{00}, P_{01}, P_{10}, P_{11}$ using tensor products.\n"
   ]
  },
  {
   "cell_type": "code",
   "execution_count": 64,
   "metadata": {
    "collapsed": false
   },
   "outputs": [],
   "source": [
    "def projector(state: nd.ndlist) -> nd.ndlist:\n",
    "    \"\"\"\n",
    "    Construct the projector |ψ><ψ| for a normalized state vector ψ.\n",
    "    \"\"\"\n",
    "    projector = tme1._matmul(state , tme1.bra(state))\n",
    "    return projector"
   ]
  },
  {
   "cell_type": "code",
   "execution_count": 65,
   "metadata": {
    "collapsed": false
   },
   "outputs": [
    {
     "name": "stdout",
     "output_type": "stream",
     "text": [
      "Projector P0:\n",
      " [[(1+0j), 0j], [0j, 0j]]\n",
      "Projector P1:\n",
      " [[0j, 0j], [0j, (1+0j)]]\n"
     ]
    }
   ],
   "source": [
    "# Define single-qubit projectors\n",
    "P0 = projector(v0)  # |0><0|\n",
    "P1 = projector(v1)  # |1><1|\n",
    "print(\"Projector P0:\\n\", P0)\n",
    "print(\"Projector P1:\\n\", P1)"
   ]
  },
  {
   "cell_type": "markdown",
   "metadata": {
    "collapsed": false
   },
   "source": [
    "### Exercise 2.2 – Measurement probabilities in computational basis\n",
    "\n",
    "Compute the probabilities of measuring the Bell state\n",
    "\n",
    "$$\n",
    "|\\Phi^+\\rangle = \\frac{1}{\\sqrt{2}}(|00\\rangle + |11\\rangle)\n",
    "$$\n",
    "\n",
    "in the computational basis.\n"
   ]
  },
  {
   "cell_type": "code",
   "execution_count": 66,
   "metadata": {
    "collapsed": false
   },
   "outputs": [],
   "source": [
    "def measurement_probability(state: nd.ndlist, projector: nd.ndlist) -> float:\n",
    "    \"\"\"\n",
    "    Compute probability of obtaining outcome associated with projector\n",
    "    when measuring state.\n",
    "    \"\"\"\n",
    "    return (tme1._matmul(tme1._matmul(tme1.bra(state), projector), state))[0][0].real"
   ]
  },
  {
   "cell_type": "code",
   "execution_count": 67,
   "metadata": {
    "collapsed": false
   },
   "outputs": [
    {
     "name": "stdout",
     "output_type": "stream",
     "text": [
      "Projector P00:\n",
      " [[(1+0j), 0j, 0j, 0j], [0j, 0j, 0j, 0j], [0j, 0j, 0j, 0j], [0j, 0j, 0j, 0j]]\n",
      "Projector P01:\n",
      " [[0j, 0j, 0j, 0j], [0j, (1+0j), 0j, 0j], [0j, 0j, 0j, 0j], [0j, 0j, 0j, 0j]]\n",
      "Projector P10:\n",
      " [[0j, 0j, 0j, 0j], [0j, 0j, 0j, 0j], [0j, 0j, (1+0j), 0j], [0j, 0j, 0j, 0j]]\n",
      "Projector P11:\n",
      " [[0j, 0j, 0j, 0j], [0j, 0j, 0j, 0j], [0j, 0j, 0j, 0j], [0j, 0j, 0j, (1+0j)]]\n"
     ]
    }
   ],
   "source": [
    "# Bell state |Φ+> was defined earlier as bell_00\n",
    "# Define two-qubit projectors\n",
    "P00 = tensor_product(P0, P0)  # P0 ⊗ P0\n",
    "P01 = tensor_product(P0, P1)  # P0 ⊗ P1\n",
    "P10 = tensor_product(P1, P0)  # P1 ⊗ P0\n",
    "P11 = tensor_product(P1, P1)  # P1 ⊗ P1\n",
    "print(\"Projector P00:\\n\", P00)\n",
    "print(\"Projector P01:\\n\", P01)\n",
    "print(\"Projector P10:\\n\", P10)\n",
    "print(\"Projector P11:\\n\", P11)"
   ]
  },
  {
   "cell_type": "code",
   "execution_count": 68,
   "metadata": {
    "collapsed": false
   },
   "outputs": [
    {
     "name": "stdout",
     "output_type": "stream",
     "text": [
      "Probabilities of measuring |Φ+> in computational basis:\n",
      "P(00) = 0.4999999999999999, P(01) = 0.0, P(10) = 0.0, P(11) = 0.4999999999999999\n"
     ]
    }
   ],
   "source": [
    "# Compute probabilities for Bell state |Φ+>\n",
    "prob_00 = measurement_probability(bell_00, P00)\n",
    "prob_01 = measurement_probability(bell_00, P01)\n",
    "prob_10 = measurement_probability(bell_00, P10)\n",
    "prob_11 = measurement_probability(bell_00, P11)\n",
    "print(\"Probabilities of measuring |Φ+> in computational basis:\")\n",
    "print(f\"P(00) = {prob_00}, P(01) = {prob_01}, P(10) = {prob_10}, P(11) = {prob_11}\")"
   ]
  },
  {
   "cell_type": "markdown",
   "metadata": {
    "collapsed": false
   },
   "source": [
    "### Exercise 2.3 – Projectors in the Hadamard (X) basis\n",
    "\n",
    "Define the states:\n",
    "\n",
    "- $|+\\rangle = (|0\\rangle + |1\\rangle)/\\sqrt{2}$\n",
    "- $|-\\rangle = (|0\\rangle - |1\\rangle)/\\sqrt{2}$\n",
    "\n",
    "1. Construct the projectors $P_+ = |+\\rangle\\langle +|$ and $P_- = |-\\rangle\\langle -|$.\n",
    "2. Extend them to two-qubit projectors ($P_{++}, P_{+-}, P_{-+}, P_{--}$)."
   ]
  },
  {
   "cell_type": "code",
   "execution_count": 69,
   "metadata": {
    "collapsed": false
   },
   "outputs": [],
   "source": [
    "# (Re)define |+> and |-> states\n",
    "v_plus = 1/sqrt(2) * (v0+v1)  # |+> = (|0> + |1>) / sqrt(2)\n",
    "v_minus = 1/sqrt(2) * (v0-v1)   # |-> = (|0> - |1>) / sqrt(2)"
   ]
  },
  {
   "cell_type": "code",
   "execution_count": 70,
   "metadata": {
    "collapsed": false
   },
   "outputs": [
    {
     "name": "stdout",
     "output_type": "stream",
     "text": [
      "Projector P_plus:\n",
      " [[(0.4999999999999999+0j), (0.4999999999999999+0j)], [(0.4999999999999999+0j), (0.4999999999999999+0j)]]\n",
      "Projector P_minus:\n",
      " [[(0.4999999999999999+0j), (-0.4999999999999999+0j)], [(-0.4999999999999999+0j), (0.4999999999999999+0j)]]\n"
     ]
    }
   ],
   "source": [
    "# Define single-qubit projectors in the Hadamard basis\n",
    "P_plus = projector(v_plus)  # |+><+|\n",
    "P_minus = projector(v_minus)  # |-><-|\n",
    "print(\"Projector P_plus:\\n\", P_plus)\n",
    "print(\"Projector P_minus:\\n\", P_minus)"
   ]
  },
  {
   "cell_type": "code",
   "execution_count": 71,
   "metadata": {
    "collapsed": false
   },
   "outputs": [
    {
     "name": "stdout",
     "output_type": "stream",
     "text": [
      "Projector P_pp:\n",
      " [[(0.2499999999999999+0j), (0.2499999999999999+0j), (0.2499999999999999+0j), (0.2499999999999999+0j)], [(0.2499999999999999+0j), (0.2499999999999999+0j), (0.2499999999999999+0j), (0.2499999999999999+0j)], [(0.2499999999999999+0j), (0.2499999999999999+0j), (0.2499999999999999+0j), (0.2499999999999999+0j)], [(0.2499999999999999+0j), (0.2499999999999999+0j), (0.2499999999999999+0j), (0.2499999999999999+0j)]]\n",
      "Projector P_pm:\n",
      " [[(0.2499999999999999+0j), (-0.2499999999999999+0j), (0.2499999999999999+0j), (-0.2499999999999999+0j)], [(-0.2499999999999999+0j), (0.2499999999999999+0j), (-0.2499999999999999+0j), (0.2499999999999999+0j)], [(0.2499999999999999+0j), (-0.2499999999999999+0j), (0.2499999999999999+0j), (-0.2499999999999999+0j)], [(-0.2499999999999999+0j), (0.2499999999999999+0j), (-0.2499999999999999+0j), (0.2499999999999999+0j)]]\n",
      "Projector P_mp:\n",
      " [[(0.2499999999999999+0j), (0.2499999999999999+0j), (-0.2499999999999999+0j), (-0.2499999999999999+0j)], [(0.2499999999999999+0j), (0.2499999999999999+0j), (-0.2499999999999999+0j), (-0.2499999999999999+0j)], [(-0.2499999999999999+0j), (-0.2499999999999999+0j), (0.2499999999999999+0j), (0.2499999999999999+0j)], [(-0.2499999999999999+0j), (-0.2499999999999999+0j), (0.2499999999999999+0j), (0.2499999999999999+0j)]]\n",
      "Projector P_mm:\n",
      " [[(0.2499999999999999+0j), (-0.2499999999999999+0j), (-0.2499999999999999+0j), (0.2499999999999999-0j)], [(-0.2499999999999999+0j), (0.2499999999999999+0j), (0.2499999999999999-0j), (-0.2499999999999999+0j)], [(-0.2499999999999999+0j), (0.2499999999999999-0j), (0.2499999999999999+0j), (-0.2499999999999999+0j)], [(0.2499999999999999-0j), (-0.2499999999999999+0j), (-0.2499999999999999+0j), (0.2499999999999999+0j)]]\n"
     ]
    }
   ],
   "source": [
    "# Extend to two-qubit projectors using tensor_product\n",
    "P_pp = tensor_product(P_plus, P_plus)  # P_plus ⊗ P_plus\n",
    "P_pm = tensor_product(P_plus, P_minus)  # P_plus ⊗ P_minus\n",
    "P_mp = tensor_product(P_minus, P_plus)  # P_minus ⊗ P_plus\n",
    "P_mm = tensor_product(P_minus, P_minus)  # P_minus ⊗ P_minus\n",
    "\n",
    "print(\"Projector P_pp:\\n\", P_pp)\n",
    "print(\"Projector P_pm:\\n\", P_pm)\n",
    "print(\"Projector P_mp:\\n\", P_mp)\n",
    "print(\"Projector P_mm:\\n\", P_mm)"
   ]
  },
  {
   "cell_type": "markdown",
   "metadata": {
    "collapsed": false
   },
   "source": [
    "### Exercise 2.4 – Simulation of repeated measurements\n",
    "\n",
    "The Hadamard basis is often called the X basis because the states $|+\\rangle$ and $|-\\rangle$ are eigenstates of the Pauli-X operator.\n",
    "\n",
    "The states $|0\\rangle$ and $|1\\rangle$ can be expressed in the Hadamard basis as:\n",
    "\n",
    "$$ |0\\rangle = \\frac{1}{\\sqrt{2}}(|+\\rangle + |-\\rangle) \\quad , \\quad |1\\rangle = \\frac{1}{\\sqrt{2}}(|+\\rangle - |-\\rangle) $$\n",
    "\n",
    "Let's simulate measuring the Bell state $|\\Phi^+\\rangle$ in the Hadamard basis multiple times (e.g., 100 times).\n",
    "\n",
    "Implement a function `simulate_measurement(state, projectors, n)` that repeats a projective measurement $n$ times, returning a list of outcomes.\n",
    "Verify empirically that for $|\\Phi^+\\rangle$, only outcomes 00 and 11 (or ++ and -- in X basis) occur, with approximately equal frequency, what is that frequency?"
   ]
  },
  {
   "cell_type": "code",
   "execution_count": 72,
   "metadata": {
    "collapsed": false
   },
   "outputs": [],
   "source": [
    "import random\n",
    "\n",
    "def simulate_measurement(state: nd.ndlist, projectors: List[nd.ndlist], n: int) -> List[int]:\n",
    "    \"\"\"\n",
    "    Simulate n projective measurements on the given state using the provided projectors.\n",
    "    Returns a list of measurement outcomes (indices of projectors).\n",
    "    \"\"\"\n",
    "    probabilities = []\n",
    "    possible_outputs = []\n",
    "    return_list = []\n",
    "\n",
    "    for i in range(len(projectors)):\n",
    "        possible_outputs.append(i)\n",
    "\n",
    "    for i in projectors:\n",
    "        probabilities.append(measurement_probability(state, i))\n",
    "    \n",
    "    choices = random.choices(possible_outputs, weights=probabilities, k=n)\n",
    "    for i in possible_outputs:\n",
    "        return_list.append(choices.count(i))\n",
    "\n",
    "    return return_list\n",
    "    "
   ]
  },
  {
   "cell_type": "code",
   "execution_count": 74,
   "metadata": {
    "collapsed": false
   },
   "outputs": [
    {
     "name": "stdout",
     "output_type": "stream",
     "text": [
      "[49, 0, 0, 51]\n"
     ]
    }
   ],
   "source": [
    "# Simulate measurements of |Φ+> in the Hadamard basis\n",
    "print(simulate_measurement(bell_00, [P_pp, P_pm, P_mp, P_mm], 100))"
   ]
  }
 ],
 "metadata": {
  "kernelspec": {
   "display_name": "Python 3",
   "language": "python",
   "name": "python3"
  },
  "language_info": {
   "codemirror_mode": {
    "name": "ipython",
    "version": 3
   },
   "file_extension": ".py",
   "mimetype": "text/x-python",
   "name": "python",
   "nbconvert_exporter": "python",
   "pygments_lexer": "ipython3",
   "version": "3.12.11"
  }
 },
 "nbformat": 4,
 "nbformat_minor": 0
}
