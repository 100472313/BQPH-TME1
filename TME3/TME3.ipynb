{
 "cells": [
  {
   "cell_type": "markdown",
   "metadata": {
    "collapsed": false,
    "jupyter": {
     "outputs_hidden": false
    }
   },
   "source": [
    "# TME — Projectors, Observables, and Generalized Measurements\n",
    "\n",
    "In this TME, you will practice applying the concepts of **projective measurements, observables, and generalized measurements (POVMs)** as introduced in **Lecture 3**.\n",
    "You will work through a single semi-open problem composed of several logical steps.\n",
    "This notebook is meant to consolidate your understanding of **measurement theory** in quantum mechanics and its representation in linear algebra.\n",
    "\n",
    "**IMPORTANT REMARK ON SUBMISSION**\n",
    "\n",
    "Unlike previous TME, you will submit your jupyter notebook directly on the Moodle platform as a **PDF**. Keep the same format as last time with the only difference being you are now submitting the notebook `ipynb` as a **PDF** file instead of a `.py` file. Make sure the output of each cell is visible in the PDF. You may work in group but each student must submit their own PDF file with a unique number."
   ]
  },
  {
   "cell_type": "code",
   "execution_count": null,
   "metadata": {
    "collapsed": false
   },
   "outputs": [],
   "source": [
    "student_name = [\"if_you_forget_your_name\", \"you_will_get_zero\", \"do_you_understand_question_mark\"] # replace with your name(s)\n",
    "\n",
    "# pablo num 2\n",
    "# alberto num 3"
   ]
  },
  {
   "cell_type": "markdown",
   "metadata": {
    "collapsed": false,
    "jupyter": {
     "outputs_hidden": false
    }
   },
   "source": [
    "## Context and Learning Goals\n",
    "\n",
    "By the end of this TME, you should be able to:\n",
    "- Represent **composite quantum systems** and manipulate their **density matrices**.\n",
    "- Compute **partial traces** to obtain reduced states.\n",
    "- Apply **projective measurements** and compute **post-measurement states** and **probabilities**.\n",
    "- Build and analyze **generalized measurements (POVMs)** using **Kraus operators**.\n",
    "- Understand how **sequential local measurements** correspond to **single global generalized measurements**.\n",
    "- Express measurements in **different bases** (e.g. the X basis using the Hadamard transformation).\n",
    "\n",
    "You must work **only with**:\n",
    "- the `ndlists` module,\n",
    "- and the helper functions you defined in TME1/TME2 (such as `tensor_product`, `inner`, `outer`, `dagger`, `partial_trace`, `projector`, etc.).\n",
    "\n",
    "⚠️ **Do not use NumPy.**\n",
    "All computations must be performed with your custom data structures."
   ]
  },
  {
   "cell_type": "markdown",
   "metadata": {
    "collapsed": false,
    "jupyter": {
     "outputs_hidden": false
    }
   },
   "source": [
    "## Problem Setup\n",
    "\n",
    "We consider a bipartite system composed of **two qubits**, labeled $A$ and $B$.\n",
    "The global pure state is given by:\n",
    "\n",
    "$$\n",
    "|\\psi\\rangle_{AB} = \\frac{1}{\\sqrt{3}}|00\\rangle + \\frac{1}{\\sqrt{3}}|01\\rangle + \\frac{1}{\\sqrt{3}}|11\\rangle.\n",
    "$$\n",
    "\n",
    "You will progressively study how **measurements** on one or both subsystems affect the state, the statistics of outcomes, and the correlations between the two qubits.\n"
   ]
  },
  {
   "cell_type": "markdown",
   "metadata": {
    "collapsed": false,
    "jupyter": {
     "outputs_hidden": false
    }
   },
   "source": [
    "## Reminders of Key Notions\n",
    "\n",
    "### Projectors and Observables\n",
    "\n",
    "A **projector** $P_i$ satisfies:\n",
    "\n",
    "$$\n",
    "P_i^2 = P_i, \\quad P_i^\\dagger = P_i.\n",
    "$$\n",
    "\n",
    "A **projective measurement** is represented by a collection of projectors $\\{P_i\\}$ satisfying the **completeness relation**:\n",
    "\n",
    "$$\n",
    "\\sum_i P_i = I.\n",
    "$$\n",
    "\n",
    "The probability of obtaining outcome $i$ when the system is in state $|\\psi\\rangle$ is:\n",
    "\n",
    "$$\n",
    "p(i) = \\langle \\psi | P_i | \\psi \\rangle,\n",
    "$$\n",
    "\n",
    "and the **post-measurement state** is:\n",
    "\n",
    "$$\n",
    "|\\psi_i\\rangle = \\frac{P_i|\\psi\\rangle}{\\sqrt{p(i)}}.\n",
    "$$\n",
    "\n",
    "If the measurement acts on only one subsystem (say A), its action on the global system is represented by $P_i^A \\otimes I_B$.\n",
    "\n",
    "---\n",
    "\n",
    "### Generalized Measurements (POVMs) and Kraus Operators\n",
    "\n",
    "A **generalized measurement** (also called a **POVM**) is described by a set of **Kraus operators** $\\{M_k\\}$ satisfying the completeness relation:\n",
    "\n",
    "$$\n",
    "\\sum_k M_k^\\dagger M_k = I.\n",
    "$$\n",
    "\n",
    "Each $M_k$ is not necessarily a projector nor Hermitian, but together they define valid probabilities and post-measurement states:\n",
    "\n",
    "$$\n",
    "p(k) = \\langle \\psi | M_k^\\dagger M_k | \\psi \\rangle, \\quad\n",
    "|\\psi_k\\rangle = \\frac{M_k|\\psi\\rangle}{\\sqrt{p(k)}}.\n",
    "$$\n",
    "\n",
    "Projective measurements are a **special case** of generalized measurements where $M_k = P_k$.\n",
    "\n",
    "---\n",
    "### Trace and partial Trace\n",
    "\n",
    "The **trace** of a square matrix $A$ is defined as:\n",
    "\n",
    "$$\n",
    "\\mathrm{Tr}(A) = \\sum_i A_{ii}.\n",
    "$$\n",
    "\n",
    "In the case of density matrices, we have $\\mathrm{Tr}(\\rho) = 1$. The **purity** of a state $\\rho$ is given by $\\mathrm{Tr}(\\rho^2)$, which equals 1 for pure states and is less than 1 for mixed states. It can never exceed 1!\n",
    "\n",
    "---\n",
    "\n",
    "### Reduced Density Matrices (Partial Trace)\n",
    "\n",
    "Given a composite density matrix $\\rho_{AB}$, the **reduced state** of subsystem $A$ is obtained by tracing out $B$:\n",
    "\n",
    "$$\n",
    "\\rho_A = \\mathrm{Tr}_B(\\rho_{AB}) = \\sum_i (\\mathbb{I}_A \\otimes \\langle i|)\\, \\rho_{AB}\\, (\\mathbb{I}_A \\otimes |i\\rangle),\n",
    "$$\n",
    "\n",
    "and similarly for $\\rho_B$. This corresponds to “forgetting” the degrees of freedom of one subsystem.\n",
    "\n",
    "---\n",
    "\n",
    "### Measurement in a Different Basis\n",
    "\n",
    "Changing the measurement basis is equivalent to applying a **unitary transformation** $U$ before measuring in the computational basis.\n",
    "\n",
    "For example, measuring in the **X basis** corresponds to first applying the **Hadamard gate**:\n",
    "\n",
    "$$\n",
    "H = \\frac{1}{\\sqrt{2}}\n",
    "\\begin{pmatrix}\n",
    "1 & 1 \\\\\n",
    "1 & -1\n",
    "\\end{pmatrix}.\n",
    "$$\n",
    "\n",
    "The new projectors are then:\n",
    "\n",
    "$$\n",
    "\\Pi_\\pm = H \\, \\Pi_{0/1} \\, H.\n",
    "$$\n"
   ]
  },
  {
   "cell_type": "markdown",
   "metadata": {
    "collapsed": false,
    "jupyter": {
     "outputs_hidden": false
    }
   },
   "source": [
    "## Instructions\n",
    "\n",
    "You will now apply these concepts step by step to the given two-qubit system.\n",
    "\n",
    "---\n",
    "\n",
    "1. **Represent the state** $|\\psi\\rangle_{AB}$ and compute the **reduced density matrices** $\\rho_A$ and $\\rho_B$.\n",
    "   Check their purity using $\\mathrm{Tr}(\\rho^2)$.\n",
    "   You are to implement both a **trace** (`trace(M: nd.ndlist) -> complex`) and **partial trace** (`partial_trace(rho: nd.ndlist, *args) -> nd.ndlist`) function.\n",
    "\n",
    "---\n",
    "\n",
    "2. **Perform a projective measurement** on subsystem A in the computational basis\n",
    "   $\\{|0\\rangle, |1\\rangle\\}$.\n",
    "   Compute the measurement probabilities $p(i)$ and the **conditional states** of subsystem B.\n",
    "\n",
    "---\n",
    "\n",
    "3. **Define a generalized measurement (POVM)** on subsystem B using the Kraus operators:\n",
    "\n",
    "   $$\n",
    "   M_0 = |0\\rangle\\langle +|, \\qquad\n",
    "   M_1 = |1\\rangle\\langle -|.\n",
    "   $$\n",
    "\n",
    "   Verify the **completeness relation**\n",
    "   $\\sum_j M_j^\\dagger M_j = I$,\n",
    "   and compute the corresponding **probabilities** and **post-measurement states**.\n",
    "\n",
    "---\n",
    "\n",
    "4. **Compare sequential vs. single global measurements.**\n",
    "   Show that performing:\n",
    "   - first a projective measurement on A with projectors $\\Pi_i^A$,\n",
    "   - then the POVM on B with Kraus operators $M_j$,\n",
    "\n",
    "   is equivalent to performing a **single measurement** on the composite system with **global Kraus operators**:\n",
    "\n",
    "   $$\n",
    "   N_{i,j} = \\Pi_i^A \\otimes M_j.\n",
    "   $$\n",
    "\n",
    "   Compute the joint probabilities $p(i,j)$ and verify that they match the ones obtained sequentially.\n",
    "   Check that the completeness relation\n",
    "   $\\sum_{i,j} N_{i,j}^\\dagger N_{i,j} = I_{AB}$\n",
    "   also holds.\n",
    "\n",
    "---\n",
    "\n",
    "5. **Change of basis — Measurement in the X-basis.**\n",
    "   So far, all measurements were performed in the **computational basis**\n",
    "   $\\{|0\\rangle, |1\\rangle\\}$, corresponding to measuring the observable $\\sigma_z$.\n",
    "\n",
    "   You will now measure **subsystem A** in the **X-basis**, defined by:\n",
    "\n",
    "   $$\n",
    "   |+\\rangle = \\frac{|0\\rangle + |1\\rangle}{\\sqrt{2}}, \\qquad\n",
    "   |-\\rangle = \\frac{|0\\rangle - |1\\rangle}{\\sqrt{2}}.\n",
    "   $$\n",
    "\n",
    "   Define the corresponding projectors:\n",
    "\n",
    "   $$\n",
    "   \\Pi_+ = |+\\rangle\\langle+|, \\qquad\n",
    "   \\Pi_- = |-\\rangle\\langle-|.\n",
    "   $$\n",
    "\n",
    "   These can also be expressed using the **Hadamard transformation**:\n",
    "\n",
    "   $$\n",
    "   H = \\frac{1}{\\sqrt{2}}\n",
    "   \\begin{pmatrix}\n",
    "   1 & 1 \\\\\n",
    "   1 & -1\n",
    "   \\end{pmatrix},\n",
    "   \\qquad\n",
    "   \\Pi_\\pm = H \\, \\Pi_{0/1} \\, H.\n",
    "   $$\n",
    "\n",
    "   Verify that:\n",
    "   - $\\Pi_+ + \\Pi_- = I$,\n",
    "   - $\\Pi_+ \\Pi_- = 0$ (orthogonality).\n",
    "\n",
    "   Apply this measurement on subsystem A, compute the **probabilities** and **post-measurement states** of B,\n",
    "   and interpret geometrically what measuring in the X-basis means on the Bloch sphere.\n"
   ]
  },
  {
   "cell_type": "code",
   "execution_count": null,
   "metadata": {
    "collapsed": false,
    "jupyter": {
     "outputs_hidden": false
    }
   },
   "outputs": [],
   "source": [
    "import ndlists as nd\n",
    "import TME1_functions_solution as tme1\n",
    "import TME2_functions_solution as tme2\n",
    "\n",
    "from math import sqrt, pi, cos, sin"
   ]
  }
 ],
 "metadata": {
  "kernelspec": {
   "display_name": "Python 3",
   "language": "python",
   "name": "python3"
  },
  "language_info": {
   "codemirror_mode": {
    "name": "ipython",
    "version": 3
   },
   "file_extension": ".py",
   "mimetype": "text/x-python",
   "name": "python",
   "nbconvert_exporter": "python",
   "pygments_lexer": "ipython3",
   "version": "3.13.1"
  }
 },
 "nbformat": 4,
 "nbformat_minor": 4
}
